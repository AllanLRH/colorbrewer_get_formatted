{
 "cells": [
  {
   "cell_type": "markdown",
   "metadata": {},
   "source": [
    "# Goal and usage\n",
    "\n",
    "Given a permalink to a color combination, download it and display it, put it in the clipboard or both in a specified formatting"
   ]
  },
  {
   "cell_type": "code",
   "execution_count": 19,
   "metadata": {
    "collapsed": true
   },
   "outputs": [],
   "source": [
    "permalink = 'http://colorbrewer2.org/?type=sequential&scheme=YlGnBu&n=7'\n",
    "gimplink = 'http://colorbrewer2.org/export/gpl/YlGnBu_7.gpl'"
   ]
  },
  {
   "cell_type": "code",
   "execution_count": 29,
   "metadata": {
    "collapsed": false
   },
   "outputs": [],
   "source": [
    "import requests\n",
    "import re"
   ]
  },
  {
   "cell_type": "code",
   "execution_count": 30,
   "metadata": {
    "collapsed": false
   },
   "outputs": [],
   "source": [
    "m = re.match(r'http://colorbrewer2.org/.+scheme=(.+?)&n=(\\d+)', permalink)\n",
    "gimplink = 'http://colorbrewer2.org/export/gpl/{}_{}.gpl'.format(*m.groups())"
   ]
  },
  {
   "cell_type": "code",
   "execution_count": 32,
   "metadata": {
    "collapsed": false
   },
   "outputs": [
    {
     "data": {
      "text/plain": [
       "200"
      ]
     },
     "execution_count": 32,
     "metadata": {},
     "output_type": "execute_result"
    }
   ],
   "source": [
    "r = requests.get(gimplink)\n",
    "r.status_code"
   ]
  },
  {
   "cell_type": "code",
   "execution_count": 33,
   "metadata": {
    "collapsed": false
   },
   "outputs": [
    {
     "name": "stdout",
     "output_type": "stream",
     "text": [
      "GIMP Palette\n",
      "Name: CB_seq_YlGnBu_7\n",
      "Columns: 3\n",
      "# This color palette was developed by Cynthia Brewer (see http://colorbrewer2.org/).\n",
      "255 255 204  seq_YlGnBu_7_01\n",
      "199 233 180  seq_YlGnBu_7_02\n",
      "127 205 187  seq_YlGnBu_7_03\n",
      " 65 182 196  seq_YlGnBu_7_04\n",
      " 29 145 192  seq_YlGnBu_7_05\n",
      " 34  94 168  seq_YlGnBu_7_06\n",
      " 12  44 132  seq_YlGnBu_7_07\n",
      "\n"
     ]
    }
   ],
   "source": [
    "raw = r.text\n",
    "print(raw)"
   ]
  },
  {
   "cell_type": "code",
   "execution_count": 34,
   "metadata": {
    "collapsed": false
   },
   "outputs": [],
   "source": [
    "rx = re.compile(r'(\\d{1,3} {1,3})', re.MULTILINE)\n",
    "res = rx.findall(raw)"
   ]
  },
  {
   "cell_type": "code",
   "execution_count": 35,
   "metadata": {
    "collapsed": false
   },
   "outputs": [
    {
     "data": {
      "text/plain": [
       "[['255', '255', '204'],\n",
       " ['199', '233', '180'],\n",
       " ['127', '205', '187'],\n",
       " ['065', '182', '196'],\n",
       " ['029', '145', '192'],\n",
       " ['034', '094', '168'],\n",
       " ['012', '044', '132']]"
      ]
     },
     "execution_count": 35,
     "metadata": {},
     "output_type": "execute_result"
    }
   ],
   "source": [
    "RGB = list()\n",
    "rgb = list()\n",
    "for i in range(0, len(res), 3):\n",
    "    innerRGB = list()\n",
    "    innerrgb = list()\n",
    "    for j in range(3):\n",
    "        n = res[i+j]\n",
    "        innerRGB.append('{:03d}'.format(int(n)))\n",
    "        innerrgb.append('{:.3f}'.format(int(n)/255))\n",
    "    RGB.append(innerRGB[:])\n",
    "    rgb.append(innerrgb[:])\n",
    "RGB"
   ]
  },
  {
   "cell_type": "code",
   "execution_count": 36,
   "metadata": {
    "collapsed": false
   },
   "outputs": [
    {
     "data": {
      "text/plain": [
       "[['1.000', '1.000', '0.800'],\n",
       " ['0.780', '0.914', '0.706'],\n",
       " ['0.498', '0.804', '0.733'],\n",
       " ['0.255', '0.714', '0.769'],\n",
       " ['0.114', '0.569', '0.753'],\n",
       " ['0.133', '0.369', '0.659'],\n",
       " ['0.047', '0.173', '0.518']]"
      ]
     },
     "execution_count": 36,
     "metadata": {},
     "output_type": "execute_result"
    }
   ],
   "source": [
    "rgb"
   ]
  }
 ],
 "metadata": {
  "kernelspec": {
   "display_name": "Python 3",
   "language": "python",
   "name": "python3"
  },
  "language_info": {
   "codemirror_mode": {
    "name": "ipython",
    "version": 3
   },
   "file_extension": ".py",
   "mimetype": "text/x-python",
   "name": "python",
   "nbconvert_exporter": "python",
   "pygments_lexer": "ipython3",
   "version": "3.5.1"
  }
 },
 "nbformat": 4,
 "nbformat_minor": 0
}
